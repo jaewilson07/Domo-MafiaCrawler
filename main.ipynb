{
 "cells": [
  {
   "cell_type": "code",
   "execution_count": null,
   "metadata": {},
   "outputs": [
    {
     "name": "stderr",
     "output_type": "stream",
     "text": [
      "python-dotenv could not parse statement starting at line 11\n"
     ]
    },
    {
     "ename": "NameError",
     "evalue": "name 'TypeVar' is not defined",
     "output_type": "error",
     "traceback": [
      "\u001b[31m---------------------------------------------------------------------------\u001b[39m",
      "\u001b[31mNameError\u001b[39m                                 Traceback (most recent call last)",
      "\u001b[36mCell\u001b[39m\u001b[36m \u001b[39m\u001b[32mIn[1]\u001b[39m\u001b[32m, line 1\u001b[39m\n\u001b[32m----> \u001b[39m\u001b[32m1\u001b[39m \u001b[38;5;28;01mimport\u001b[39;00m\u001b[38;5;250m \u001b[39m\u001b[34;01mroutes\u001b[39;00m\u001b[34;01m.\u001b[39;00m\u001b[34;01mcrawler\u001b[39;00m\u001b[38;5;250m \u001b[39m\u001b[38;5;28;01mas\u001b[39;00m\u001b[38;5;250m \u001b[39m\u001b[34;01mcrawler_routes\u001b[39;00m\n\u001b[32m      2\u001b[39m \u001b[38;5;28;01mimport\u001b[39;00m\u001b[38;5;250m \u001b[39m\u001b[34;01mroutes\u001b[39;00m\u001b[34;01m.\u001b[39;00m\u001b[34;01msupabase\u001b[39;00m\u001b[38;5;250m \u001b[39m\u001b[38;5;28;01mas\u001b[39;00m\u001b[38;5;250m \u001b[39m\u001b[34;01msupabase_routes\u001b[39;00m\n\u001b[32m      3\u001b[39m \u001b[38;5;28;01mimport\u001b[39;00m\u001b[38;5;250m \u001b[39m\u001b[34;01mimplementation\u001b[39;00m\u001b[34;01m.\u001b[39;00m\u001b[34;01mscraper\u001b[39;00m\u001b[38;5;250m \u001b[39m\u001b[38;5;28;01mas\u001b[39;00m\u001b[38;5;250m \u001b[39m\u001b[34;01mscraper\u001b[39;00m\n",
      "\u001b[36mFile \u001b[39m\u001b[32md:\\GitHub\\Domo-MafiaCrawler\\routes\\crawler.py:33\u001b[39m\n\u001b[32m     30\u001b[39m sys.path.append(os.path.abspath(os.path.join(os.path.dirname(\u001b[34m__file__\u001b[39m), \u001b[33m\"\u001b[39m\u001b[33m..\u001b[39m\u001b[33m\"\u001b[39m)))\n\u001b[32m     32\u001b[39m \u001b[38;5;28;01mtry\u001b[39;00m:\n\u001b[32m---> \u001b[39m\u001b[32m33\u001b[39m     \u001b[38;5;28;01mfrom\u001b[39;00m\u001b[38;5;250m \u001b[39m\u001b[34;01mclient\u001b[39;00m\u001b[34;01m.\u001b[39;00m\u001b[34;01mResponseGetData\u001b[39;00m\u001b[38;5;250m \u001b[39m\u001b[38;5;28;01mimport\u001b[39;00m ResponseGetDataCrawler\n\u001b[32m     34\u001b[39m     \u001b[38;5;28;01mfrom\u001b[39;00m\u001b[38;5;250m \u001b[39m\u001b[34;01mclient\u001b[39;00m\u001b[34;01m.\u001b[39;00m\u001b[34;01mMafiaError\u001b[39;00m\u001b[38;5;250m \u001b[39m\u001b[38;5;28;01mimport\u001b[39;00m MafiaError\n\u001b[32m     36\u001b[39m     CLIENT_MODULES_AVAILABLE = \u001b[38;5;28;01mTrue\u001b[39;00m\n",
      "\u001b[36mFile \u001b[39m\u001b[32md:\\GitHub\\Domo-MafiaCrawler\\client\\ResponseGetData.py:16\u001b[39m\n\u001b[32m     13\u001b[39m AsyncSlackResponse = Any  \u001b[38;5;66;03m# from slack_sdk.web.async_client import AsyncSlackResponse\u001b[39;00m\n\u001b[32m     15\u001b[39m \u001b[38;5;66;03m# Generic type for the response return type\u001b[39;00m\n\u001b[32m---> \u001b[39m\u001b[32m16\u001b[39m T = \u001b[43mTypeVar\u001b[49m(\u001b[33m\"\u001b[39m\u001b[33mT\u001b[39m\u001b[33m\"\u001b[39m, bound=\u001b[33m\"\u001b[39m\u001b[33mResponseGetData\u001b[39m\u001b[33m\"\u001b[39m)\n\u001b[32m     19\u001b[39m \u001b[38;5;129m@dataclass\u001b[39m\n\u001b[32m     20\u001b[39m \u001b[38;5;28;01mclass\u001b[39;00m\u001b[38;5;250m \u001b[39m\u001b[34;01mResponseGetData\u001b[39;00m(ABC):\n\u001b[32m     21\u001b[39m \u001b[38;5;250m    \u001b[39m\u001b[33;03m\"\"\"\u001b[39;00m\n\u001b[32m     22\u001b[39m \u001b[33;03m    Abstract base class for standardized API response handling.\u001b[39;00m\n\u001b[32m     23\u001b[39m \n\u001b[32m   (...)\u001b[39m\u001b[32m     27\u001b[39m \u001b[33;03m        response: The response data payload\u001b[39;00m\n\u001b[32m     28\u001b[39m \u001b[33;03m    \"\"\"\u001b[39;00m\n",
      "\u001b[31mNameError\u001b[39m: name 'TypeVar' is not defined"
     ]
    }
   ],
   "source": [
    "import routes.crawler as crawler_routes\n",
    "import routes.supabase as supabase_routes\n",
    "import implementation.scraper as scraper\n",
    "\n",
    "# Standard library imports\n",
    "import os\n",
    "import logging\n",
    "from functools import partial\n",
    "from supabase import AsyncClient as AsyncSupabaseClient\n",
    "from openai import AsyncClient as AsyncOpenaiClient\n",
    "\n",
    "# Configure logging\n",
    "logging.basicConfig(level=logging.ERROR)\n",
    "logger = logging.getLogger(__name__)\n",
    "\n",
    "# Configure the crawler\n",
    "\n",
    "browser_config = crawler_routes.BrowserConfig(\n",
    "    browser_type=\"chromium\",\n",
    "    headless=True,\n",
    "    verbose=True,\n",
    "    extra_args=[\"--disable-gpu\", \"--disable-dev-shm-usage\", \"--no-sandbox\"],\n",
    ")\n",
    "\n",
    "supabase_client = AsyncSupabaseClient(\n",
    "    os.environ[\"SUPABASE_URL\"], os.environ[\"SUPABASE_SERVICE_KEY\"]\n",
    ")\n",
    "\n",
    "async_openai_client = AsyncOpenaiClient(api_key=os.environ[\"OPENAI_API_KEY\"])\n",
    "\n",
    "\n",
    "\n",
    "\n",
    "async def main(url : str, allowed_domains = List[str], \n",
    "               debug_prn: bool = False):\n",
    "    \"\"\"Main function to crawl URLs and process the results.\"\"\"\n",
    "    \n",
    "    export_folder = \"./export/slack_apis/\"\n",
    "    source = \"slack_api_docs\"\n",
    "\n",
    "\n",
    "\n",
    "    domain_filter = crawler_routes.DomainFilter(\n",
    "        allowed_domains=[\"https://docs.slack.dev/admins/managing-users\"]\n",
    "    )\n",
    "\n",
    "    config = crawler_routes.CrawlerRunConfig(\n",
    "        cache_mode=crawler_routes.CacheMode.BYPASS,\n",
    "        deep_crawl_strategy=crawler_routes.BFSDeepCrawlStrategy(\n",
    "            max_depth=1,\n",
    "            filter_chain=crawler_routes.FilterChain([domain_filter]),\n",
    "            include_external=False,\n",
    "        ),\n",
    "        stream=True,\n",
    "        verbose=True,\n",
    "        session_id=source,\n",
    "    )\n",
    "\n",
    "    # Ensure the export folder exists\n",
    "    os.makedirs(export_folder, exist_ok=True)\n",
    "\n",
    "    # Crawl URLs\n",
    "    res = await crawler_routes.crawl_urls(\n",
    "        starting_url=\"https://docs.slack.dev/admins/managing-users\",\n",
    "        crawler_config=config,\n",
    "        browser_config=browser_config,\n",
    "        session_id=source,\n",
    "        storage_fn=partial(\n",
    "            supabase_routes.save_chunk_to_disk, export_folder=export_folder\n",
    "        ),\n",
    "        process_fn=partial(\n",
    "            scraper.process_rgd,\n",
    "            export_folder=export_folder,\n",
    "            supabase_client=supabase_client,\n",
    "            async_embedding_client=async_openai_client,\n",
    "            async_openai_client=async_openai_client,\n",
    "        ),\n",
    "        output_folder=export_folder,\n",
    "    )\n",
    "\n",
    "    if debug_prn:\n",
    "        logger.info(\"Completed crawling with results: %s\", res)\n",
    "\n",
    "    return res"
   ]
  }
 ],
 "metadata": {
  "kernelspec": {
   "display_name": ".venv",
   "language": "python",
   "name": "python3"
  },
  "language_info": {
   "codemirror_mode": {
    "name": "ipython",
    "version": 3
   },
   "file_extension": ".py",
   "mimetype": "text/x-python",
   "name": "python",
   "nbconvert_exporter": "python",
   "pygments_lexer": "ipython3",
   "version": "3.11.6"
  }
 },
 "nbformat": 4,
 "nbformat_minor": 2
}
